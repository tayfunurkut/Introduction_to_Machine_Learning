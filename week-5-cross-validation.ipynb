{
 "cells": [
  {
   "cell_type": "code",
   "execution_count": 1,
   "id": "eb3e8fe0",
   "metadata": {
    "_cell_guid": "b1076dfc-b9ad-4769-8c92-a6c4dae69d19",
    "_uuid": "8f2839f25d086af736a60e9eeb907d3b93b6e0e5",
    "execution": {
     "iopub.execute_input": "2023-04-05T13:17:18.810073Z",
     "iopub.status.busy": "2023-04-05T13:17:18.808970Z",
     "iopub.status.idle": "2023-04-05T13:17:19.952256Z",
     "shell.execute_reply": "2023-04-05T13:17:19.951174Z"
    },
    "papermill": {
     "duration": 1.152049,
     "end_time": "2023-04-05T13:17:19.955567",
     "exception": false,
     "start_time": "2023-04-05T13:17:18.803518",
     "status": "completed"
    },
    "tags": []
   },
   "outputs": [],
   "source": [
    "from sklearn.datasets import load_iris\n",
    "from sklearn.linear_model import LinearRegression\n",
    "from sklearn.model_selection import KFold\n",
    "from sklearn.metrics import mean_squared_error\n",
    "import numpy as np"
   ]
  },
  {
   "cell_type": "code",
   "execution_count": 2,
   "id": "08bccae3",
   "metadata": {
    "execution": {
     "iopub.execute_input": "2023-04-05T13:17:19.963996Z",
     "iopub.status.busy": "2023-04-05T13:17:19.963034Z",
     "iopub.status.idle": "2023-04-05T13:17:19.972554Z",
     "shell.execute_reply": "2023-04-05T13:17:19.971561Z"
    },
    "papermill": {
     "duration": 0.016425,
     "end_time": "2023-04-05T13:17:19.975185",
     "exception": false,
     "start_time": "2023-04-05T13:17:19.958760",
     "status": "completed"
    },
    "tags": []
   },
   "outputs": [],
   "source": [
    "iris = load_iris()"
   ]
  },
  {
   "cell_type": "code",
   "execution_count": 3,
   "id": "48da9c02",
   "metadata": {
    "execution": {
     "iopub.execute_input": "2023-04-05T13:17:19.982301Z",
     "iopub.status.busy": "2023-04-05T13:17:19.981916Z",
     "iopub.status.idle": "2023-04-05T13:17:19.988770Z",
     "shell.execute_reply": "2023-04-05T13:17:19.987646Z"
    },
    "papermill": {
     "duration": 0.013336,
     "end_time": "2023-04-05T13:17:19.991359",
     "exception": false,
     "start_time": "2023-04-05T13:17:19.978023",
     "status": "completed"
    },
    "tags": []
   },
   "outputs": [],
   "source": [
    "X, y = iris.data, iris.target"
   ]
  },
  {
   "cell_type": "code",
   "execution_count": 4,
   "id": "c1bd64ba",
   "metadata": {
    "execution": {
     "iopub.execute_input": "2023-04-05T13:17:19.999119Z",
     "iopub.status.busy": "2023-04-05T13:17:19.998435Z",
     "iopub.status.idle": "2023-04-05T13:17:20.003272Z",
     "shell.execute_reply": "2023-04-05T13:17:20.002430Z"
    },
    "papermill": {
     "duration": 0.011014,
     "end_time": "2023-04-05T13:17:20.005425",
     "exception": false,
     "start_time": "2023-04-05T13:17:19.994411",
     "status": "completed"
    },
    "tags": []
   },
   "outputs": [],
   "source": [
    "kf = KFold(n_splits=5, shuffle=True, random_state=42)"
   ]
  },
  {
   "cell_type": "code",
   "execution_count": 5,
   "id": "5621859a",
   "metadata": {
    "execution": {
     "iopub.execute_input": "2023-04-05T13:17:20.013914Z",
     "iopub.status.busy": "2023-04-05T13:17:20.012860Z",
     "iopub.status.idle": "2023-04-05T13:17:20.017391Z",
     "shell.execute_reply": "2023-04-05T13:17:20.016566Z"
    },
    "papermill": {
     "duration": 0.010882,
     "end_time": "2023-04-05T13:17:20.019553",
     "exception": false,
     "start_time": "2023-04-05T13:17:20.008671",
     "status": "completed"
    },
    "tags": []
   },
   "outputs": [],
   "source": [
    "model = LinearRegression()"
   ]
  },
  {
   "cell_type": "code",
   "execution_count": 6,
   "id": "efb6c3b4",
   "metadata": {
    "execution": {
     "iopub.execute_input": "2023-04-05T13:17:20.027280Z",
     "iopub.status.busy": "2023-04-05T13:17:20.026607Z",
     "iopub.status.idle": "2023-04-05T13:17:20.055850Z",
     "shell.execute_reply": "2023-04-05T13:17:20.054747Z"
    },
    "papermill": {
     "duration": 0.036352,
     "end_time": "2023-04-05T13:17:20.058804",
     "exception": false,
     "start_time": "2023-04-05T13:17:20.022452",
     "status": "completed"
    },
    "tags": []
   },
   "outputs": [],
   "source": [
    "scores = []\n",
    "for train_index, test_index in kf.split(X):\n",
    "    X_train, X_test = X[train_index], X[test_index]\n",
    "    y_train, y_test = y[train_index], y[test_index]\n",
    "    \n",
    "    # Modeli eğit\n",
    "    model.fit(X_train, y_train)\n",
    "    \n",
    "    # Test seti üzerinde tahmin yap ve hata hesapla\n",
    "    y_pred = model.predict(X_test)\n",
    "    score = mean_squared_error(y_test, y_pred)\n",
    "    scores.append(score)"
   ]
  },
  {
   "cell_type": "code",
   "execution_count": 7,
   "id": "e627d1be",
   "metadata": {
    "execution": {
     "iopub.execute_input": "2023-04-05T13:17:20.066811Z",
     "iopub.status.busy": "2023-04-05T13:17:20.065834Z",
     "iopub.status.idle": "2023-04-05T13:17:20.071110Z",
     "shell.execute_reply": "2023-04-05T13:17:20.070017Z"
    },
    "papermill": {
     "duration": 0.011781,
     "end_time": "2023-04-05T13:17:20.073520",
     "exception": false,
     "start_time": "2023-04-05T13:17:20.061739",
     "status": "completed"
    },
    "tags": []
   },
   "outputs": [],
   "source": [
    "mean_score = np.mean(scores)"
   ]
  },
  {
   "cell_type": "code",
   "execution_count": 8,
   "id": "158b8f67",
   "metadata": {
    "execution": {
     "iopub.execute_input": "2023-04-05T13:17:20.080741Z",
     "iopub.status.busy": "2023-04-05T13:17:20.080326Z",
     "iopub.status.idle": "2023-04-05T13:17:20.086377Z",
     "shell.execute_reply": "2023-04-05T13:17:20.085234Z"
    },
    "papermill": {
     "duration": 0.012318,
     "end_time": "2023-04-05T13:17:20.088710",
     "exception": false,
     "start_time": "2023-04-05T13:17:20.076392",
     "status": "completed"
    },
    "tags": []
   },
   "outputs": [
    {
     "name": "stdout",
     "output_type": "stream",
     "text": [
      "K-fold cross validation result:  [0.037113794407976915, 0.042877331697643635, 0.05339513046889763, 0.06316425044891773, 0.047794600654438316]\n",
      "Mean Score:  0.04886902153557484\n"
     ]
    }
   ],
   "source": [
    "print(\"K-fold cross validation result: \", scores)\n",
    "print(\"Mean Score: \", mean_score)"
   ]
  }
 ],
 "metadata": {
  "kernelspec": {
   "display_name": "Python 3",
   "language": "python",
   "name": "python3"
  },
  "language_info": {
   "codemirror_mode": {
    "name": "ipython",
    "version": 3
   },
   "file_extension": ".py",
   "mimetype": "text/x-python",
   "name": "python",
   "nbconvert_exporter": "python",
   "pygments_lexer": "ipython3",
   "version": "3.7.12"
  },
  "papermill": {
   "default_parameters": {},
   "duration": 12.190695,
   "end_time": "2023-04-05T13:17:20.813137",
   "environment_variables": {},
   "exception": null,
   "input_path": "__notebook__.ipynb",
   "output_path": "__notebook__.ipynb",
   "parameters": {},
   "start_time": "2023-04-05T13:17:08.622442",
   "version": "2.4.0"
  }
 },
 "nbformat": 4,
 "nbformat_minor": 5
}

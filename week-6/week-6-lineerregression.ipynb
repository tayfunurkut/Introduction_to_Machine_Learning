{
 "cells": [
  {
   "cell_type": "code",
   "execution_count": 1,
   "id": "a5421028",
   "metadata": {
    "_cell_guid": "b1076dfc-b9ad-4769-8c92-a6c4dae69d19",
    "_uuid": "8f2839f25d086af736a60e9eeb907d3b93b6e0e5",
    "execution": {
     "iopub.execute_input": "2023-04-07T11:58:21.416626Z",
     "iopub.status.busy": "2023-04-07T11:58:21.416197Z",
     "iopub.status.idle": "2023-04-07T11:58:21.426347Z",
     "shell.execute_reply": "2023-04-07T11:58:21.425330Z"
    },
    "papermill": {
     "duration": 0.020505,
     "end_time": "2023-04-07T11:58:21.428739",
     "exception": false,
     "start_time": "2023-04-07T11:58:21.408234",
     "status": "completed"
    },
    "tags": []
   },
   "outputs": [],
   "source": [
    "import numpy as np\n",
    "import pandas as pd\n",
    "import matplotlib.pyplot as plt"
   ]
  },
  {
   "cell_type": "code",
   "execution_count": 2,
   "id": "d2f97bde",
   "metadata": {
    "execution": {
     "iopub.execute_input": "2023-04-07T11:58:21.440935Z",
     "iopub.status.busy": "2023-04-07T11:58:21.440551Z",
     "iopub.status.idle": "2023-04-07T11:58:21.457162Z",
     "shell.execute_reply": "2023-04-07T11:58:21.456172Z"
    },
    "papermill": {
     "duration": 0.025706,
     "end_time": "2023-04-07T11:58:21.459682",
     "exception": false,
     "start_time": "2023-04-07T11:58:21.433976",
     "status": "completed"
    },
    "tags": []
   },
   "outputs": [],
   "source": [
    "df = pd.read_csv (\"/kaggle/input/linear-regression-data-csv/linear_regression_dataset.csv\",sep = \";\")"
   ]
  },
  {
   "cell_type": "code",
   "execution_count": 3,
   "id": "ca28cab4",
   "metadata": {
    "execution": {
     "iopub.execute_input": "2023-04-07T11:58:21.471653Z",
     "iopub.status.busy": "2023-04-07T11:58:21.471279Z",
     "iopub.status.idle": "2023-04-07T11:58:21.501657Z",
     "shell.execute_reply": "2023-04-07T11:58:21.500545Z"
    },
    "papermill": {
     "duration": 0.039004,
     "end_time": "2023-04-07T11:58:21.503843",
     "exception": false,
     "start_time": "2023-04-07T11:58:21.464839",
     "status": "completed"
    },
    "tags": []
   },
   "outputs": [
    {
     "data": {
      "text/html": [
       "<div>\n",
       "<style scoped>\n",
       "    .dataframe tbody tr th:only-of-type {\n",
       "        vertical-align: middle;\n",
       "    }\n",
       "\n",
       "    .dataframe tbody tr th {\n",
       "        vertical-align: top;\n",
       "    }\n",
       "\n",
       "    .dataframe thead th {\n",
       "        text-align: right;\n",
       "    }\n",
       "</style>\n",
       "<table border=\"1\" class=\"dataframe\">\n",
       "  <thead>\n",
       "    <tr style=\"text-align: right;\">\n",
       "      <th></th>\n",
       "      <th>deneyim</th>\n",
       "      <th>maas</th>\n",
       "    </tr>\n",
       "  </thead>\n",
       "  <tbody>\n",
       "    <tr>\n",
       "      <th>0</th>\n",
       "      <td>0.5</td>\n",
       "      <td>2500</td>\n",
       "    </tr>\n",
       "    <tr>\n",
       "      <th>1</th>\n",
       "      <td>0.0</td>\n",
       "      <td>2250</td>\n",
       "    </tr>\n",
       "    <tr>\n",
       "      <th>2</th>\n",
       "      <td>1.0</td>\n",
       "      <td>2750</td>\n",
       "    </tr>\n",
       "    <tr>\n",
       "      <th>3</th>\n",
       "      <td>5.0</td>\n",
       "      <td>8000</td>\n",
       "    </tr>\n",
       "    <tr>\n",
       "      <th>4</th>\n",
       "      <td>8.0</td>\n",
       "      <td>9000</td>\n",
       "    </tr>\n",
       "  </tbody>\n",
       "</table>\n",
       "</div>"
      ],
      "text/plain": [
       "   deneyim  maas\n",
       "0      0.5  2500\n",
       "1      0.0  2250\n",
       "2      1.0  2750\n",
       "3      5.0  8000\n",
       "4      8.0  9000"
      ]
     },
     "execution_count": 3,
     "metadata": {},
     "output_type": "execute_result"
    }
   ],
   "source": [
    "df.head(5)"
   ]
  },
  {
   "cell_type": "code",
   "execution_count": 4,
   "id": "77de2365",
   "metadata": {
    "execution": {
     "iopub.execute_input": "2023-04-07T11:58:21.519784Z",
     "iopub.status.busy": "2023-04-07T11:58:21.518552Z",
     "iopub.status.idle": "2023-04-07T11:58:21.787252Z",
     "shell.execute_reply": "2023-04-07T11:58:21.786383Z"
    },
    "papermill": {
     "duration": 0.279999,
     "end_time": "2023-04-07T11:58:21.789641",
     "exception": false,
     "start_time": "2023-04-07T11:58:21.509642",
     "status": "completed"
    },
    "tags": []
   },
   "outputs": [
    {
     "data": {
      "image/png": "[encoded data removed]",
      "text/plain": [
       "<Figure size 640x480 with 1 Axes>"
      ]
     },
     "metadata": {},
     "output_type": "display_data"
    }
   ],
   "source": [
    "plt.scatter(df.deneyim,df.maas)\n",
    "plt.xlabel(\"deneyim\")\n",
    "plt.ylabel(\"maas\")\n",
    "plt.show()"
   ]
  },
  {
   "cell_type": "code",
   "execution_count": 5,
   "id": "07b296ce",
   "metadata": {
    "execution": {
     "iopub.execute_input": "2023-04-07T11:58:21.803004Z",
     "iopub.status.busy": "2023-04-07T11:58:21.802346Z",
     "iopub.status.idle": "2023-04-07T11:58:21.807600Z",
     "shell.execute_reply": "2023-04-07T11:58:21.806550Z"
    },
    "papermill": {
     "duration": 0.014648,
     "end_time": "2023-04-07T11:58:21.810070",
     "exception": false,
     "start_time": "2023-04-07T11:58:21.795422",
     "status": "completed"
    },
    "tags": []
   },
   "outputs": [],
   "source": [
    "x=df.deneyim.values"
   ]
  },
  {
   "cell_type": "code",
   "execution_count": 6,
   "id": "32198854",
   "metadata": {
    "execution": {
     "iopub.execute_input": "2023-04-07T11:58:21.823447Z",
     "iopub.status.busy": "2023-04-07T11:58:21.823013Z",
     "iopub.status.idle": "2023-04-07T11:58:21.829956Z",
     "shell.execute_reply": "2023-04-07T11:58:21.828790Z"
    },
    "papermill": {
     "duration": 0.016651,
     "end_time": "2023-04-07T11:58:21.832400",
     "exception": false,
     "start_time": "2023-04-07T11:58:21.815749",
     "status": "completed"
    },
    "tags": []
   },
   "outputs": [
    {
     "data": {
      "text/plain": [
       "(14,)"
      ]
     },
     "execution_count": 6,
     "metadata": {},
     "output_type": "execute_result"
    }
   ],
   "source": [
    "x.shape"
   ]
  },
  {
   "cell_type": "code",
   "execution_count": 7,
   "id": "d9c1f628",
   "metadata": {
    "execution": {
     "iopub.execute_input": "2023-04-07T11:58:21.845785Z",
     "iopub.status.busy": "2023-04-07T11:58:21.845362Z",
     "iopub.status.idle": "2023-04-07T11:58:22.935414Z",
     "shell.execute_reply": "2023-04-07T11:58:22.934198Z"
    },
    "papermill": {
     "duration": 1.10013,
     "end_time": "2023-04-07T11:58:22.938281",
     "exception": false,
     "start_time": "2023-04-07T11:58:21.838151",
     "status": "completed"
    },
    "tags": []
   },
   "outputs": [],
   "source": [
    "from sklearn.linear_model import LinearRegression\n",
    "linear_reg = LinearRegression()"
   ]
  },
  {
   "cell_type": "code",
   "execution_count": 8,
   "id": "2462fe7b",
   "metadata": {
    "execution": {
     "iopub.execute_input": "2023-04-07T11:58:22.952074Z",
     "iopub.status.busy": "2023-04-07T11:58:22.951707Z",
     "iopub.status.idle": "2023-04-07T11:58:22.956877Z",
     "shell.execute_reply": "2023-04-07T11:58:22.955914Z"
    },
    "papermill": {
     "duration": 0.014657,
     "end_time": "2023-04-07T11:58:22.959136",
     "exception": false,
     "start_time": "2023-04-07T11:58:22.944479",
     "status": "completed"
    },
    "tags": []
   },
   "outputs": [],
   "source": [
    "x = df.deneyim.values.reshape(-1,1)\n",
    "y = df.maas.values.reshape(-1,1)"
   ]
  },
  {
   "cell_type": "code",
   "execution_count": 9,
   "id": "7246886d",
   "metadata": {
    "execution": {
     "iopub.execute_input": "2023-04-07T11:58:22.973016Z",
     "iopub.status.busy": "2023-04-07T11:58:22.972642Z",
     "iopub.status.idle": "2023-04-07T11:58:22.988665Z",
     "shell.execute_reply": "2023-04-07T11:58:22.987521Z"
    },
    "papermill": {
     "duration": 0.025957,
     "end_time": "2023-04-07T11:58:22.991145",
     "exception": false,
     "start_time": "2023-04-07T11:58:22.965188",
     "status": "completed"
    },
    "tags": []
   },
   "outputs": [
    {
     "data": {
      "text/plain": [
       "LinearRegression()"
      ]
     },
     "execution_count": 9,
     "metadata": {},
     "output_type": "execute_result"
    }
   ],
   "source": [
    "linear_reg.fit(x,y)"
   ]
  },
  {
   "cell_type": "code",
   "execution_count": 10,
   "id": "8b409843",
   "metadata": {
    "execution": {
     "iopub.execute_input": "2023-04-07T11:58:23.005505Z",
     "iopub.status.busy": "2023-04-07T11:58:23.005068Z",
     "iopub.status.idle": "2023-04-07T11:58:23.011828Z",
     "shell.execute_reply": "2023-04-07T11:58:23.010499Z"
    },
    "papermill": {
     "duration": 0.016783,
     "end_time": "2023-04-07T11:58:23.014374",
     "exception": false,
     "start_time": "2023-04-07T11:58:22.997591",
     "status": "completed"
    },
    "tags": []
   },
   "outputs": [
    {
     "name": "stdout",
     "output_type": "stream",
     "text": [
      "b0 [[1663.89519747]]\n"
     ]
    }
   ],
   "source": [
    "b0=linear_reg.predict([[0]])\n",
    "print(\"b0\",b0)"
   ]
  },
  {
   "cell_type": "code",
   "execution_count": 11,
   "id": "f480c39e",
   "metadata": {
    "execution": {
     "iopub.execute_input": "2023-04-07T11:58:23.028478Z",
     "iopub.status.busy": "2023-04-07T11:58:23.028100Z",
     "iopub.status.idle": "2023-04-07T11:58:23.035276Z",
     "shell.execute_reply": "2023-04-07T11:58:23.034143Z"
    },
    "papermill": {
     "duration": 0.017258,
     "end_time": "2023-04-07T11:58:23.037659",
     "exception": false,
     "start_time": "2023-04-07T11:58:23.020401",
     "status": "completed"
    },
    "tags": []
   },
   "outputs": [
    {
     "data": {
      "text/plain": [
       "array([1663.89519747])"
      ]
     },
     "execution_count": 11,
     "metadata": {},
     "output_type": "execute_result"
    }
   ],
   "source": [
    "b00=linear_reg.intercept_\n",
    "b00"
   ]
  },
  {
   "cell_type": "code",
   "execution_count": 12,
   "id": "a8c508bf",
   "metadata": {
    "execution": {
     "iopub.execute_input": "2023-04-07T11:58:23.052092Z",
     "iopub.status.busy": "2023-04-07T11:58:23.051335Z",
     "iopub.status.idle": "2023-04-07T11:58:23.058859Z",
     "shell.execute_reply": "2023-04-07T11:58:23.057726Z"
    },
    "papermill": {
     "duration": 0.017352,
     "end_time": "2023-04-07T11:58:23.061291",
     "exception": false,
     "start_time": "2023-04-07T11:58:23.043939",
     "status": "completed"
    },
    "tags": []
   },
   "outputs": [
    {
     "data": {
      "text/plain": [
       "array([[1138.34819698]])"
      ]
     },
     "execution_count": 12,
     "metadata": {},
     "output_type": "execute_result"
    }
   ],
   "source": [
    "b1=linear_reg.coef_\n",
    "b1"
   ]
  },
  {
   "cell_type": "code",
   "execution_count": 13,
   "id": "4bd0779f",
   "metadata": {
    "execution": {
     "iopub.execute_input": "2023-04-07T11:58:23.075557Z",
     "iopub.status.busy": "2023-04-07T11:58:23.075169Z",
     "iopub.status.idle": "2023-04-07T11:58:23.080559Z",
     "shell.execute_reply": "2023-04-07T11:58:23.079120Z"
    },
    "papermill": {
     "duration": 0.015397,
     "end_time": "2023-04-07T11:58:23.082840",
     "exception": false,
     "start_time": "2023-04-07T11:58:23.067443",
     "status": "completed"
    },
    "tags": []
   },
   "outputs": [],
   "source": [
    "new_salary=1663+1138*12"
   ]
  },
  {
   "cell_type": "code",
   "execution_count": 14,
   "id": "07e25201",
   "metadata": {
    "execution": {
     "iopub.execute_input": "2023-04-07T11:58:23.099476Z",
     "iopub.status.busy": "2023-04-07T11:58:23.098510Z",
     "iopub.status.idle": "2023-04-07T11:58:23.105004Z",
     "shell.execute_reply": "2023-04-07T11:58:23.103708Z"
    },
    "papermill": {
     "duration": 0.016544,
     "end_time": "2023-04-07T11:58:23.107305",
     "exception": false,
     "start_time": "2023-04-07T11:58:23.090761",
     "status": "completed"
    },
    "tags": []
   },
   "outputs": [
    {
     "name": "stdout",
     "output_type": "stream",
     "text": [
      "12 Yıllık Deneyimi Olan Birinin Maasi :  15319\n"
     ]
    }
   ],
   "source": [
    "print(\"12 Yıllık Deneyimi Olan Birinin Maasi : \",new_salary)"
   ]
  },
  {
   "cell_type": "code",
   "execution_count": 15,
   "id": "a670205d",
   "metadata": {
    "execution": {
     "iopub.execute_input": "2023-04-07T11:58:23.123637Z",
     "iopub.status.busy": "2023-04-07T11:58:23.123245Z",
     "iopub.status.idle": "2023-04-07T11:58:23.130722Z",
     "shell.execute_reply": "2023-04-07T11:58:23.129326Z"
    },
    "papermill": {
     "duration": 0.019414,
     "end_time": "2023-04-07T11:58:23.133025",
     "exception": false,
     "start_time": "2023-04-07T11:58:23.113611",
     "status": "completed"
    },
    "tags": []
   },
   "outputs": [
    {
     "data": {
      "text/plain": [
       "array([[15324.07356118]])"
      ]
     },
     "execution_count": 15,
     "metadata": {},
     "output_type": "execute_result"
    }
   ],
   "source": [
    "b25=linear_reg.predict([[12]])\n",
    "b25"
   ]
  },
  {
   "cell_type": "code",
   "execution_count": 16,
   "id": "57a0239c",
   "metadata": {
    "execution": {
     "iopub.execute_input": "2023-04-07T11:58:23.147276Z",
     "iopub.status.busy": "2023-04-07T11:58:23.146871Z",
     "iopub.status.idle": "2023-04-07T11:58:23.151345Z",
     "shell.execute_reply": "2023-04-07T11:58:23.150524Z"
    },
    "papermill": {
     "duration": 0.01426,
     "end_time": "2023-04-07T11:58:23.153559",
     "exception": false,
     "start_time": "2023-04-07T11:58:23.139299",
     "status": "completed"
    },
    "tags": []
   },
   "outputs": [],
   "source": [
    "y_head=linear_reg.predict(x)"
   ]
  },
  {
   "cell_type": "code",
   "execution_count": 17,
   "id": "c49fcca4",
   "metadata": {
    "execution": {
     "iopub.execute_input": "2023-04-07T11:58:23.168021Z",
     "iopub.status.busy": "2023-04-07T11:58:23.167670Z",
     "iopub.status.idle": "2023-04-07T11:58:23.401602Z",
     "shell.execute_reply": "2023-04-07T11:58:23.400417Z"
    },
    "papermill": {
     "duration": 0.24415,
     "end_time": "2023-04-07T11:58:23.404059",
     "exception": false,
     "start_time": "2023-04-07T11:58:23.159909",
     "status": "completed"
    },
    "tags": []
   },
   "outputs": [
    {
     "data": {
      "image/png": "[encoded data removed]",
      "text/plain": [
       "<Figure size 640x480 with 1 Axes>"
      ]
     },
     "metadata": {},
     "output_type": "display_data"
    }
   ],
   "source": [
    "plt.plot(x,y_head,color=\"red\")\n",
    "plt.scatter(x,y)\n",
    "plt.show()"
   ]
  },
  {
   "cell_type": "code",
   "execution_count": 18,
   "id": "f5f6d063",
   "metadata": {
    "execution": {
     "iopub.execute_input": "2023-04-07T11:58:23.420094Z",
     "iopub.status.busy": "2023-04-07T11:58:23.418864Z",
     "iopub.status.idle": "2023-04-07T11:58:23.425404Z",
     "shell.execute_reply": "2023-04-07T11:58:23.424286Z"
    },
    "papermill": {
     "duration": 0.016753,
     "end_time": "2023-04-07T11:58:23.427643",
     "exception": false,
     "start_time": "2023-04-07T11:58:23.410890",
     "status": "completed"
    },
    "tags": []
   },
   "outputs": [
    {
     "name": "stdout",
     "output_type": "stream",
     "text": [
      "Mean squarred error: 685945.845961494\n"
     ]
    }
   ],
   "source": [
    "mse=np.square(np.subtract(y,y_head)).mean()\n",
    "print(\"Mean squarred error:\",mse)"
   ]
  },
  {
   "cell_type": "code",
   "execution_count": 19,
   "id": "51117d17",
   "metadata": {
    "execution": {
     "iopub.execute_input": "2023-04-07T11:58:23.444039Z",
     "iopub.status.busy": "2023-04-07T11:58:23.442531Z",
     "iopub.status.idle": "2023-04-07T11:58:23.449695Z",
     "shell.execute_reply": "2023-04-07T11:58:23.448400Z"
    },
    "papermill": {
     "duration": 0.017453,
     "end_time": "2023-04-07T11:58:23.451997",
     "exception": false,
     "start_time": "2023-04-07T11:58:23.434544",
     "status": "completed"
    },
    "tags": []
   },
   "outputs": [
    {
     "name": "stdout",
     "output_type": "stream",
     "text": [
      "R^2 square: 0.9775283164949903\n"
     ]
    }
   ],
   "source": [
    "from sklearn.metrics import r2_score\n",
    "print(\"R^2 square:\",r2_score(y,y_head))"
   ]
  }
 ],
 "metadata": {
  "kernelspec": {
   "display_name": "Python 3",
   "language": "python",
   "name": "python3"
  },
  "language_info": {
   "codemirror_mode": {
    "name": "ipython",
    "version": 3
   },
   "file_extension": ".py",
   "mimetype": "text/x-python",
   "name": "python",
   "nbconvert_exporter": "python",
   "pygments_lexer": "ipython3",
   "version": "3.7.12"
  },
  "papermill": {
   "default_parameters": {},
   "duration": 12.476482,
   "end_time": "2023-04-07T11:58:24.181622",
   "environment_variables": {},
   "exception": null,
   "input_path": "__notebook__.ipynb",
   "output_path": "__notebook__.ipynb",
   "parameters": {},
   "start_time": "2023-04-07T11:58:11.705140",
   "version": "2.4.0"
  }
 },
 "nbformat": 4,
 "nbformat_minor": 5
}

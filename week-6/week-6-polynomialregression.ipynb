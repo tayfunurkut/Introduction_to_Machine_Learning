{
 "cells": [
  {
   "cell_type": "code",
   "execution_count": 1,
   "id": "7bccbca8",
   "metadata": {
    "_cell_guid": "b1076dfc-b9ad-4769-8c92-a6c4dae69d19",
    "_uuid": "8f2839f25d086af736a60e9eeb907d3b93b6e0e5",
    "execution": {
     "iopub.execute_input": "2023-04-07T11:36:28.501640Z",
     "iopub.status.busy": "2023-04-07T11:36:28.501056Z",
     "iopub.status.idle": "2023-04-07T11:36:29.626867Z",
     "shell.execute_reply": "2023-04-07T11:36:29.625799Z"
    },
    "papermill": {
     "duration": 1.136501,
     "end_time": "2023-04-07T11:36:29.629623",
     "exception": false,
     "start_time": "2023-04-07T11:36:28.493122",
     "status": "completed"
    },
    "tags": []
   },
   "outputs": [],
   "source": [
    "import numpy as np\n",
    "import matplotlib.pyplot as plt\n",
    "from sklearn.linear_model import LinearRegression\n",
    "from sklearn.preprocessing import PolynomialFeatures"
   ]
  },
  {
   "cell_type": "code",
   "execution_count": 2,
   "id": "6d50e9c2",
   "metadata": {
    "execution": {
     "iopub.execute_input": "2023-04-07T11:36:29.641259Z",
     "iopub.status.busy": "2023-04-07T11:36:29.640801Z",
     "iopub.status.idle": "2023-04-07T11:36:29.646740Z",
     "shell.execute_reply": "2023-04-07T11:36:29.645499Z"
    },
    "papermill": {
     "duration": 0.014787,
     "end_time": "2023-04-07T11:36:29.649347",
     "exception": false,
     "start_time": "2023-04-07T11:36:29.634560",
     "status": "completed"
    },
    "tags": []
   },
   "outputs": [],
   "source": [
    "x=np.array([0,1,2,3,4,5,6])\n",
    "y=np.array([1,6,17,34,57,86,121])"
   ]
  },
  {
   "cell_type": "code",
   "execution_count": 3,
   "id": "986cbe2d",
   "metadata": {
    "execution": {
     "iopub.execute_input": "2023-04-07T11:36:29.660924Z",
     "iopub.status.busy": "2023-04-07T11:36:29.660512Z",
     "iopub.status.idle": "2023-04-07T11:36:29.666333Z",
     "shell.execute_reply": "2023-04-07T11:36:29.664948Z"
    },
    "papermill": {
     "duration": 0.014707,
     "end_time": "2023-04-07T11:36:29.668953",
     "exception": false,
     "start_time": "2023-04-07T11:36:29.654246",
     "status": "completed"
    },
    "tags": []
   },
   "outputs": [],
   "source": [
    "poly=PolynomialFeatures(degree=2)\n",
    "x_poly = poly.fit_transform(x.reshape(-1,1))"
   ]
  },
  {
   "cell_type": "code",
   "execution_count": 4,
   "id": "7fa421d7",
   "metadata": {
    "execution": {
     "iopub.execute_input": "2023-04-07T11:36:29.680595Z",
     "iopub.status.busy": "2023-04-07T11:36:29.680090Z",
     "iopub.status.idle": "2023-04-07T11:36:29.711355Z",
     "shell.execute_reply": "2023-04-07T11:36:29.709995Z"
    },
    "papermill": {
     "duration": 0.040252,
     "end_time": "2023-04-07T11:36:29.714020",
     "exception": false,
     "start_time": "2023-04-07T11:36:29.673768",
     "status": "completed"
    },
    "tags": []
   },
   "outputs": [
    {
     "data": {
      "text/plain": [
       "LinearRegression()"
      ]
     },
     "execution_count": 4,
     "metadata": {},
     "output_type": "execute_result"
    }
   ],
   "source": [
    "model = LinearRegression()\n",
    "model.fit(x_poly,y)"
   ]
  },
  {
   "cell_type": "code",
   "execution_count": 5,
   "id": "06df899f",
   "metadata": {
    "execution": {
     "iopub.execute_input": "2023-04-07T11:36:29.725750Z",
     "iopub.status.busy": "2023-04-07T11:36:29.725350Z",
     "iopub.status.idle": "2023-04-07T11:36:29.732421Z",
     "shell.execute_reply": "2023-04-07T11:36:29.731169Z"
    },
    "papermill": {
     "duration": 0.015636,
     "end_time": "2023-04-07T11:36:29.734716",
     "exception": false,
     "start_time": "2023-04-07T11:36:29.719080",
     "status": "completed"
    },
    "tags": []
   },
   "outputs": [
    {
     "data": {
      "text/plain": [
       "LinearRegression()"
      ]
     },
     "execution_count": 5,
     "metadata": {},
     "output_type": "execute_result"
    }
   ],
   "source": [
    "LinearRegression()"
   ]
  },
  {
   "cell_type": "code",
   "execution_count": 6,
   "id": "ecfc29b1",
   "metadata": {
    "execution": {
     "iopub.execute_input": "2023-04-07T11:36:29.746532Z",
     "iopub.status.busy": "2023-04-07T11:36:29.746112Z",
     "iopub.status.idle": "2023-04-07T11:36:29.997480Z",
     "shell.execute_reply": "2023-04-07T11:36:29.996242Z"
    },
    "papermill": {
     "duration": 0.260408,
     "end_time": "2023-04-07T11:36:29.999971",
     "exception": false,
     "start_time": "2023-04-07T11:36:29.739563",
     "status": "completed"
    },
    "tags": []
   },
   "outputs": [
    {
     "data": {
      "image/png": "[encoded data removed]",
      "text/plain": [
       "<Figure size 640x480 with 1 Axes>"
      ]
     },
     "metadata": {},
     "output_type": "display_data"
    }
   ],
   "source": [
    "plt.scatter(x,y)\n",
    "plt.plot(x,model.predict(x_poly),color=\"red\")\n",
    "plt.show()"
   ]
  },
  {
   "cell_type": "code",
   "execution_count": 7,
   "id": "3f591c8b",
   "metadata": {
    "execution": {
     "iopub.execute_input": "2023-04-07T11:36:30.013499Z",
     "iopub.status.busy": "2023-04-07T11:36:30.012242Z",
     "iopub.status.idle": "2023-04-07T11:36:30.018805Z",
     "shell.execute_reply": "2023-04-07T11:36:30.017487Z"
    },
    "papermill": {
     "duration": 0.015835,
     "end_time": "2023-04-07T11:36:30.021283",
     "exception": false,
     "start_time": "2023-04-07T11:36:30.005448",
     "status": "completed"
    },
    "tags": []
   },
   "outputs": [],
   "source": [
    "import numpy as np\n",
    "import pandas as pd\n",
    "import matplotlib.pyplot as plt\n",
    "from sklearn.linear_model import LinearRegression\n",
    "from sklearn.preprocessing import PolynomialFeatures\n",
    "from sklearn.model_selection import train_test_split\n",
    "from sklearn.metrics import r2_score"
   ]
  },
  {
   "cell_type": "code",
   "execution_count": 8,
   "id": "f4ffc315",
   "metadata": {
    "execution": {
     "iopub.execute_input": "2023-04-07T11:36:30.034630Z",
     "iopub.status.busy": "2023-04-07T11:36:30.034070Z",
     "iopub.status.idle": "2023-04-07T11:36:30.053900Z",
     "shell.execute_reply": "2023-04-07T11:36:30.052975Z"
    },
    "papermill": {
     "duration": 0.029566,
     "end_time": "2023-04-07T11:36:30.056452",
     "exception": false,
     "start_time": "2023-04-07T11:36:30.026886",
     "status": "completed"
    },
    "tags": []
   },
   "outputs": [],
   "source": [
    "df=pd.read_csv(\"/kaggle/input/column-2c-wekacsv/column_2C_weka.csv\")"
   ]
  },
  {
   "cell_type": "code",
   "execution_count": 9,
   "id": "26f47b13",
   "metadata": {
    "execution": {
     "iopub.execute_input": "2023-04-07T11:36:30.070074Z",
     "iopub.status.busy": "2023-04-07T11:36:30.068945Z",
     "iopub.status.idle": "2023-04-07T11:36:30.100515Z",
     "shell.execute_reply": "2023-04-07T11:36:30.099368Z"
    },
    "papermill": {
     "duration": 0.041092,
     "end_time": "2023-04-07T11:36:30.103018",
     "exception": false,
     "start_time": "2023-04-07T11:36:30.061926",
     "status": "completed"
    },
    "tags": []
   },
   "outputs": [
    {
     "data": {
      "text/html": [
       "<div>\n",
       "<style scoped>\n",
       "    .dataframe tbody tr th:only-of-type {\n",
       "        vertical-align: middle;\n",
       "    }\n",
       "\n",
       "    .dataframe tbody tr th {\n",
       "        vertical-align: top;\n",
       "    }\n",
       "\n",
       "    .dataframe thead th {\n",
       "        text-align: right;\n",
       "    }\n",
       "</style>\n",
       "<table border=\"1\" class=\"dataframe\">\n",
       "  <thead>\n",
       "    <tr style=\"text-align: right;\">\n",
       "      <th></th>\n",
       "      <th>pelvic_incidence</th>\n",
       "      <th>pelvic_tilt numeric</th>\n",
       "      <th>lumbar_lordosis_angle</th>\n",
       "      <th>sacral_slope</th>\n",
       "      <th>pelvic_radius</th>\n",
       "      <th>degree_spondylolisthesis</th>\n",
       "      <th>class</th>\n",
       "    </tr>\n",
       "  </thead>\n",
       "  <tbody>\n",
       "    <tr>\n",
       "      <th>0</th>\n",
       "      <td>63.027817</td>\n",
       "      <td>22.552586</td>\n",
       "      <td>39.609117</td>\n",
       "      <td>40.475232</td>\n",
       "      <td>98.672917</td>\n",
       "      <td>-0.254400</td>\n",
       "      <td>Abnormal</td>\n",
       "    </tr>\n",
       "    <tr>\n",
       "      <th>1</th>\n",
       "      <td>39.056951</td>\n",
       "      <td>10.060991</td>\n",
       "      <td>25.015378</td>\n",
       "      <td>28.995960</td>\n",
       "      <td>114.405425</td>\n",
       "      <td>4.564259</td>\n",
       "      <td>Abnormal</td>\n",
       "    </tr>\n",
       "    <tr>\n",
       "      <th>2</th>\n",
       "      <td>68.832021</td>\n",
       "      <td>22.218482</td>\n",
       "      <td>50.092194</td>\n",
       "      <td>46.613539</td>\n",
       "      <td>105.985135</td>\n",
       "      <td>-3.530317</td>\n",
       "      <td>Abnormal</td>\n",
       "    </tr>\n",
       "    <tr>\n",
       "      <th>3</th>\n",
       "      <td>69.297008</td>\n",
       "      <td>24.652878</td>\n",
       "      <td>44.311238</td>\n",
       "      <td>44.644130</td>\n",
       "      <td>101.868495</td>\n",
       "      <td>11.211523</td>\n",
       "      <td>Abnormal</td>\n",
       "    </tr>\n",
       "    <tr>\n",
       "      <th>4</th>\n",
       "      <td>49.712859</td>\n",
       "      <td>9.652075</td>\n",
       "      <td>28.317406</td>\n",
       "      <td>40.060784</td>\n",
       "      <td>108.168725</td>\n",
       "      <td>7.918501</td>\n",
       "      <td>Abnormal</td>\n",
       "    </tr>\n",
       "    <tr>\n",
       "      <th>5</th>\n",
       "      <td>40.250200</td>\n",
       "      <td>13.921907</td>\n",
       "      <td>25.124950</td>\n",
       "      <td>26.328293</td>\n",
       "      <td>130.327871</td>\n",
       "      <td>2.230652</td>\n",
       "      <td>Abnormal</td>\n",
       "    </tr>\n",
       "    <tr>\n",
       "      <th>6</th>\n",
       "      <td>53.432928</td>\n",
       "      <td>15.864336</td>\n",
       "      <td>37.165934</td>\n",
       "      <td>37.568592</td>\n",
       "      <td>120.567523</td>\n",
       "      <td>5.988551</td>\n",
       "      <td>Abnormal</td>\n",
       "    </tr>\n",
       "    <tr>\n",
       "      <th>7</th>\n",
       "      <td>45.366754</td>\n",
       "      <td>10.755611</td>\n",
       "      <td>29.038349</td>\n",
       "      <td>34.611142</td>\n",
       "      <td>117.270067</td>\n",
       "      <td>-10.675871</td>\n",
       "      <td>Abnormal</td>\n",
       "    </tr>\n",
       "    <tr>\n",
       "      <th>8</th>\n",
       "      <td>43.790190</td>\n",
       "      <td>13.533753</td>\n",
       "      <td>42.690814</td>\n",
       "      <td>30.256437</td>\n",
       "      <td>125.002893</td>\n",
       "      <td>13.289018</td>\n",
       "      <td>Abnormal</td>\n",
       "    </tr>\n",
       "    <tr>\n",
       "      <th>9</th>\n",
       "      <td>36.686353</td>\n",
       "      <td>5.010884</td>\n",
       "      <td>41.948751</td>\n",
       "      <td>31.675469</td>\n",
       "      <td>84.241415</td>\n",
       "      <td>0.664437</td>\n",
       "      <td>Abnormal</td>\n",
       "    </tr>\n",
       "    <tr>\n",
       "      <th>10</th>\n",
       "      <td>49.706610</td>\n",
       "      <td>13.040974</td>\n",
       "      <td>31.334500</td>\n",
       "      <td>36.665635</td>\n",
       "      <td>108.648265</td>\n",
       "      <td>-7.825986</td>\n",
       "      <td>Abnormal</td>\n",
       "    </tr>\n",
       "    <tr>\n",
       "      <th>11</th>\n",
       "      <td>31.232387</td>\n",
       "      <td>17.715819</td>\n",
       "      <td>15.500000</td>\n",
       "      <td>13.516568</td>\n",
       "      <td>120.055399</td>\n",
       "      <td>0.499751</td>\n",
       "      <td>Abnormal</td>\n",
       "    </tr>\n",
       "    <tr>\n",
       "      <th>12</th>\n",
       "      <td>48.915551</td>\n",
       "      <td>19.964556</td>\n",
       "      <td>40.263794</td>\n",
       "      <td>28.950995</td>\n",
       "      <td>119.321358</td>\n",
       "      <td>8.028895</td>\n",
       "      <td>Abnormal</td>\n",
       "    </tr>\n",
       "    <tr>\n",
       "      <th>13</th>\n",
       "      <td>53.572170</td>\n",
       "      <td>20.460828</td>\n",
       "      <td>33.100000</td>\n",
       "      <td>33.111342</td>\n",
       "      <td>110.966698</td>\n",
       "      <td>7.044803</td>\n",
       "      <td>Abnormal</td>\n",
       "    </tr>\n",
       "    <tr>\n",
       "      <th>14</th>\n",
       "      <td>57.300227</td>\n",
       "      <td>24.188885</td>\n",
       "      <td>47.000000</td>\n",
       "      <td>33.111342</td>\n",
       "      <td>116.806587</td>\n",
       "      <td>5.766947</td>\n",
       "      <td>Abnormal</td>\n",
       "    </tr>\n",
       "    <tr>\n",
       "      <th>15</th>\n",
       "      <td>44.318907</td>\n",
       "      <td>12.537992</td>\n",
       "      <td>36.098763</td>\n",
       "      <td>31.780915</td>\n",
       "      <td>124.115836</td>\n",
       "      <td>5.415825</td>\n",
       "      <td>Abnormal</td>\n",
       "    </tr>\n",
       "    <tr>\n",
       "      <th>16</th>\n",
       "      <td>63.834982</td>\n",
       "      <td>20.362507</td>\n",
       "      <td>54.552434</td>\n",
       "      <td>43.472475</td>\n",
       "      <td>112.309491</td>\n",
       "      <td>-0.622527</td>\n",
       "      <td>Abnormal</td>\n",
       "    </tr>\n",
       "    <tr>\n",
       "      <th>17</th>\n",
       "      <td>31.276012</td>\n",
       "      <td>3.144669</td>\n",
       "      <td>32.562996</td>\n",
       "      <td>28.131342</td>\n",
       "      <td>129.011418</td>\n",
       "      <td>3.623020</td>\n",
       "      <td>Abnormal</td>\n",
       "    </tr>\n",
       "    <tr>\n",
       "      <th>18</th>\n",
       "      <td>38.697912</td>\n",
       "      <td>13.444749</td>\n",
       "      <td>31.000000</td>\n",
       "      <td>25.253163</td>\n",
       "      <td>123.159251</td>\n",
       "      <td>1.429186</td>\n",
       "      <td>Abnormal</td>\n",
       "    </tr>\n",
       "    <tr>\n",
       "      <th>19</th>\n",
       "      <td>41.729963</td>\n",
       "      <td>12.254074</td>\n",
       "      <td>30.122586</td>\n",
       "      <td>29.475889</td>\n",
       "      <td>116.585706</td>\n",
       "      <td>-1.244402</td>\n",
       "      <td>Abnormal</td>\n",
       "    </tr>\n",
       "  </tbody>\n",
       "</table>\n",
       "</div>"
      ],
      "text/plain": [
       "    pelvic_incidence  pelvic_tilt numeric  lumbar_lordosis_angle  \\\n",
       "0          63.027817            22.552586              39.609117   \n",
       "1          39.056951            10.060991              25.015378   \n",
       "2          68.832021            22.218482              50.092194   \n",
       "3          69.297008            24.652878              44.311238   \n",
       "4          49.712859             9.652075              28.317406   \n",
       "5          40.250200            13.921907              25.124950   \n",
       "6          53.432928            15.864336              37.165934   \n",
       "7          45.366754            10.755611              29.038349   \n",
       "8          43.790190            13.533753              42.690814   \n",
       "9          36.686353             5.010884              41.948751   \n",
       "10         49.706610            13.040974              31.334500   \n",
       "11         31.232387            17.715819              15.500000   \n",
       "12         48.915551            19.964556              40.263794   \n",
       "13         53.572170            20.460828              33.100000   \n",
       "14         57.300227            24.188885              47.000000   \n",
       "15         44.318907            12.537992              36.098763   \n",
       "16         63.834982            20.362507              54.552434   \n",
       "17         31.276012             3.144669              32.562996   \n",
       "18         38.697912            13.444749              31.000000   \n",
       "19         41.729963            12.254074              30.122586   \n",
       "\n",
       "    sacral_slope  pelvic_radius  degree_spondylolisthesis     class  \n",
       "0      40.475232      98.672917                 -0.254400  Abnormal  \n",
       "1      28.995960     114.405425                  4.564259  Abnormal  \n",
       "2      46.613539     105.985135                 -3.530317  Abnormal  \n",
       "3      44.644130     101.868495                 11.211523  Abnormal  \n",
       "4      40.060784     108.168725                  7.918501  Abnormal  \n",
       "5      26.328293     130.327871                  2.230652  Abnormal  \n",
       "6      37.568592     120.567523                  5.988551  Abnormal  \n",
       "7      34.611142     117.270067                -10.675871  Abnormal  \n",
       "8      30.256437     125.002893                 13.289018  Abnormal  \n",
       "9      31.675469      84.241415                  0.664437  Abnormal  \n",
       "10     36.665635     108.648265                 -7.825986  Abnormal  \n",
       "11     13.516568     120.055399                  0.499751  Abnormal  \n",
       "12     28.950995     119.321358                  8.028895  Abnormal  \n",
       "13     33.111342     110.966698                  7.044803  Abnormal  \n",
       "14     33.111342     116.806587                  5.766947  Abnormal  \n",
       "15     31.780915     124.115836                  5.415825  Abnormal  \n",
       "16     43.472475     112.309491                 -0.622527  Abnormal  \n",
       "17     28.131342     129.011418                  3.623020  Abnormal  \n",
       "18     25.253163     123.159251                  1.429186  Abnormal  \n",
       "19     29.475889     116.585706                 -1.244402  Abnormal  "
      ]
     },
     "execution_count": 9,
     "metadata": {},
     "output_type": "execute_result"
    }
   ],
   "source": [
    "df.head(20)"
   ]
  },
  {
   "cell_type": "code",
   "execution_count": 10,
   "id": "3b35a5ab",
   "metadata": {
    "execution": {
     "iopub.execute_input": "2023-04-07T11:36:30.116502Z",
     "iopub.status.busy": "2023-04-07T11:36:30.116070Z",
     "iopub.status.idle": "2023-04-07T11:36:30.130069Z",
     "shell.execute_reply": "2023-04-07T11:36:30.128911Z"
    },
    "papermill": {
     "duration": 0.023668,
     "end_time": "2023-04-07T11:36:30.132462",
     "exception": false,
     "start_time": "2023-04-07T11:36:30.108794",
     "status": "completed"
    },
    "tags": []
   },
   "outputs": [
    {
     "data": {
      "text/html": [
       "<div>\n",
       "<style scoped>\n",
       "    .dataframe tbody tr th:only-of-type {\n",
       "        vertical-align: middle;\n",
       "    }\n",
       "\n",
       "    .dataframe tbody tr th {\n",
       "        vertical-align: top;\n",
       "    }\n",
       "\n",
       "    .dataframe thead th {\n",
       "        text-align: right;\n",
       "    }\n",
       "</style>\n",
       "<table border=\"1\" class=\"dataframe\">\n",
       "  <thead>\n",
       "    <tr style=\"text-align: right;\">\n",
       "      <th></th>\n",
       "      <th>pelvic_incidence</th>\n",
       "      <th>pelvic_tilt numeric</th>\n",
       "      <th>lumbar_lordosis_angle</th>\n",
       "      <th>sacral_slope</th>\n",
       "      <th>pelvic_radius</th>\n",
       "      <th>degree_spondylolisthesis</th>\n",
       "      <th>class</th>\n",
       "    </tr>\n",
       "  </thead>\n",
       "  <tbody>\n",
       "    <tr>\n",
       "      <th>305</th>\n",
       "      <td>47.903565</td>\n",
       "      <td>13.616688</td>\n",
       "      <td>36.000000</td>\n",
       "      <td>34.286877</td>\n",
       "      <td>117.449062</td>\n",
       "      <td>-4.245395</td>\n",
       "      <td>Normal</td>\n",
       "    </tr>\n",
       "    <tr>\n",
       "      <th>306</th>\n",
       "      <td>53.936748</td>\n",
       "      <td>20.721496</td>\n",
       "      <td>29.220534</td>\n",
       "      <td>33.215251</td>\n",
       "      <td>114.365845</td>\n",
       "      <td>-0.421010</td>\n",
       "      <td>Normal</td>\n",
       "    </tr>\n",
       "    <tr>\n",
       "      <th>307</th>\n",
       "      <td>61.446597</td>\n",
       "      <td>22.694968</td>\n",
       "      <td>46.170347</td>\n",
       "      <td>38.751628</td>\n",
       "      <td>125.670725</td>\n",
       "      <td>-2.707880</td>\n",
       "      <td>Normal</td>\n",
       "    </tr>\n",
       "    <tr>\n",
       "      <th>308</th>\n",
       "      <td>45.252792</td>\n",
       "      <td>8.693157</td>\n",
       "      <td>41.583126</td>\n",
       "      <td>36.559635</td>\n",
       "      <td>118.545842</td>\n",
       "      <td>0.214750</td>\n",
       "      <td>Normal</td>\n",
       "    </tr>\n",
       "    <tr>\n",
       "      <th>309</th>\n",
       "      <td>33.841641</td>\n",
       "      <td>5.073991</td>\n",
       "      <td>36.641233</td>\n",
       "      <td>28.767649</td>\n",
       "      <td>123.945244</td>\n",
       "      <td>-0.199249</td>\n",
       "      <td>Normal</td>\n",
       "    </tr>\n",
       "  </tbody>\n",
       "</table>\n",
       "</div>"
      ],
      "text/plain": [
       "     pelvic_incidence  pelvic_tilt numeric  lumbar_lordosis_angle  \\\n",
       "305         47.903565            13.616688              36.000000   \n",
       "306         53.936748            20.721496              29.220534   \n",
       "307         61.446597            22.694968              46.170347   \n",
       "308         45.252792             8.693157              41.583126   \n",
       "309         33.841641             5.073991              36.641233   \n",
       "\n",
       "     sacral_slope  pelvic_radius  degree_spondylolisthesis   class  \n",
       "305     34.286877     117.449062                 -4.245395  Normal  \n",
       "306     33.215251     114.365845                 -0.421010  Normal  \n",
       "307     38.751628     125.670725                 -2.707880  Normal  \n",
       "308     36.559635     118.545842                  0.214750  Normal  \n",
       "309     28.767649     123.945244                 -0.199249  Normal  "
      ]
     },
     "execution_count": 10,
     "metadata": {},
     "output_type": "execute_result"
    }
   ],
   "source": [
    "df.tail()"
   ]
  },
  {
   "cell_type": "code",
   "execution_count": 11,
   "id": "db2834fb",
   "metadata": {
    "execution": {
     "iopub.execute_input": "2023-04-07T11:36:30.146429Z",
     "iopub.status.busy": "2023-04-07T11:36:30.145741Z",
     "iopub.status.idle": "2023-04-07T11:36:30.365889Z",
     "shell.execute_reply": "2023-04-07T11:36:30.364687Z"
    },
    "papermill": {
     "duration": 0.229914,
     "end_time": "2023-04-07T11:36:30.368381",
     "exception": false,
     "start_time": "2023-04-07T11:36:30.138467",
     "status": "completed"
    },
    "tags": []
   },
   "outputs": [
    {
     "data": {
      "image/png": "[encoded data removed]",
      "text/plain": [
       "<Figure size 640x480 with 1 Axes>"
      ]
     },
     "metadata": {},
     "output_type": "display_data"
    }
   ],
   "source": [
    "abnormaldata1 = df[df[\"class\"]==\"Abnormal\"]\n",
    "x=np.array(abnormaldata1.loc[:,\"pelvic_incidence\"]).reshape(-1,1)\n",
    "y=np.array(abnormaldata1.loc[:,\"sacral_slope\"]).reshape(-1,1)\n",
    "\n",
    "plt.scatter(x,y)\n",
    "plt.xlabel(\"pelvic_incidence\")\n",
    "plt.ylabel(\"sacral_slope\")\n",
    "plt.show()"
   ]
  },
  {
   "cell_type": "code",
   "execution_count": 12,
   "id": "99b54d5a",
   "metadata": {
    "execution": {
     "iopub.execute_input": "2023-04-07T11:36:30.383087Z",
     "iopub.status.busy": "2023-04-07T11:36:30.382690Z",
     "iopub.status.idle": "2023-04-07T11:36:30.395366Z",
     "shell.execute_reply": "2023-04-07T11:36:30.394187Z"
    },
    "papermill": {
     "duration": 0.023005,
     "end_time": "2023-04-07T11:36:30.397835",
     "exception": false,
     "start_time": "2023-04-07T11:36:30.374830",
     "status": "completed"
    },
    "tags": []
   },
   "outputs": [
    {
     "data": {
      "text/plain": [
       "LinearRegression()"
      ]
     },
     "execution_count": 12,
     "metadata": {},
     "output_type": "execute_result"
    }
   ],
   "source": [
    "x_train,x_test,y_train,y_test=train_test_split(x,y,test_size=0.2,random_state=2)\n",
    "lr=LinearRegression()\n",
    "lr.fit(x_train,y_train)"
   ]
  },
  {
   "cell_type": "code",
   "execution_count": 13,
   "id": "c79c6921",
   "metadata": {
    "execution": {
     "iopub.execute_input": "2023-04-07T11:36:30.414379Z",
     "iopub.status.busy": "2023-04-07T11:36:30.413224Z",
     "iopub.status.idle": "2023-04-07T11:36:30.420926Z",
     "shell.execute_reply": "2023-04-07T11:36:30.419540Z"
    },
    "papermill": {
     "duration": 0.018412,
     "end_time": "2023-04-07T11:36:30.423313",
     "exception": false,
     "start_time": "2023-04-07T11:36:30.404901",
     "status": "completed"
    },
    "tags": []
   },
   "outputs": [
    {
     "name": "stdout",
     "output_type": "stream",
     "text": [
      "0.427619799498007\n"
     ]
    }
   ],
   "source": [
    "y_pred=lr.predict(x_test)\n",
    "print(r2_score(y_test,y_pred))"
   ]
  },
  {
   "cell_type": "code",
   "execution_count": 14,
   "id": "ca3e156e",
   "metadata": {
    "execution": {
     "iopub.execute_input": "2023-04-07T11:36:30.438467Z",
     "iopub.status.busy": "2023-04-07T11:36:30.438025Z",
     "iopub.status.idle": "2023-04-07T11:36:30.447711Z",
     "shell.execute_reply": "2023-04-07T11:36:30.446534Z"
    },
    "papermill": {
     "duration": 0.020307,
     "end_time": "2023-04-07T11:36:30.450232",
     "exception": false,
     "start_time": "2023-04-07T11:36:30.429925",
     "status": "completed"
    },
    "tags": []
   },
   "outputs": [
    {
     "name": "stdout",
     "output_type": "stream",
     "text": [
      "0.4450433674101977\n"
     ]
    }
   ],
   "source": [
    "poly = PolynomialFeatures(degree=12,include_bias=True)\n",
    "x_train_trans = poly.fit_transform(x_train)\n",
    "x_test_trans = poly.transform(x_test)\n",
    "lr=LinearRegression()\n",
    "lr.fit(x_train_trans,y_train)\n",
    "y_pred = lr.predict(x_test_trans)\n",
    "print(r2_score(y_test,y_pred))"
   ]
  },
  {
   "cell_type": "code",
   "execution_count": 15,
   "id": "4fa401d3",
   "metadata": {
    "execution": {
     "iopub.execute_input": "2023-04-07T11:36:30.465533Z",
     "iopub.status.busy": "2023-04-07T11:36:30.465102Z",
     "iopub.status.idle": "2023-04-07T11:36:30.470852Z",
     "shell.execute_reply": "2023-04-07T11:36:30.469689Z"
    },
    "papermill": {
     "duration": 0.016407,
     "end_time": "2023-04-07T11:36:30.473270",
     "exception": false,
     "start_time": "2023-04-07T11:36:30.456863",
     "status": "completed"
    },
    "tags": []
   },
   "outputs": [],
   "source": [
    "X_new = np.linspace(0,132,200).reshape(200,1)"
   ]
  },
  {
   "cell_type": "code",
   "execution_count": 16,
   "id": "ef026931",
   "metadata": {
    "execution": {
     "iopub.execute_input": "2023-04-07T11:36:30.489677Z",
     "iopub.status.busy": "2023-04-07T11:36:30.489242Z",
     "iopub.status.idle": "2023-04-07T11:36:30.495222Z",
     "shell.execute_reply": "2023-04-07T11:36:30.493865Z"
    },
    "papermill": {
     "duration": 0.016671,
     "end_time": "2023-04-07T11:36:30.497783",
     "exception": false,
     "start_time": "2023-04-07T11:36:30.481112",
     "status": "completed"
    },
    "tags": []
   },
   "outputs": [],
   "source": [
    "X_new_poly = poly.transform(X_new)\n",
    "y_new = lr.predict(X_new_poly)"
   ]
  },
  {
   "cell_type": "code",
   "execution_count": 17,
   "id": "f7ca7434",
   "metadata": {
    "execution": {
     "iopub.execute_input": "2023-04-07T11:36:30.512835Z",
     "iopub.status.busy": "2023-04-07T11:36:30.512443Z",
     "iopub.status.idle": "2023-04-07T11:36:30.816434Z",
     "shell.execute_reply": "2023-04-07T11:36:30.815080Z"
    },
    "papermill": {
     "duration": 0.314729,
     "end_time": "2023-04-07T11:36:30.819164",
     "exception": false,
     "start_time": "2023-04-07T11:36:30.504435",
     "status": "completed"
    },
    "tags": []
   },
   "outputs": [
    {
     "data": {
      "image/png": "[encoded data removed]",
      "text/plain": [
       "<Figure size 1000x1000 with 1 Axes>"
      ]
     },
     "metadata": {},
     "output_type": "display_data"
    }
   ],
   "source": [
    "plt.figure(figsize=[10,10])\n",
    "plt.plot(X_new,y_new,\"r-\",linewidth=2,label=\"Prediction\")\n",
    "plt.plot(x_train,y_train,\"b.\",label=\"Training Points\")\n",
    "plt.plot(x_test,y_test,\"g.\",label=\"Training Points\")\n",
    "plt.xlabel(\"pelvic_incidence\")\n",
    "plt.ylabel(\"sacral_slope\")\n",
    "plt.legend()\n",
    "plt.show()"
   ]
  }
 ],
 "metadata": {
  "kernelspec": {
   "display_name": "Python 3",
   "language": "python",
   "name": "python3"
  },
  "language_info": {
   "codemirror_mode": {
    "name": "ipython",
    "version": 3
   },
   "file_extension": ".py",
   "mimetype": "text/x-python",
   "name": "python",
   "nbconvert_exporter": "python",
   "pygments_lexer": "ipython3",
   "version": "3.7.12"
  },
  "papermill": {
   "default_parameters": {},
   "duration": 13.288281,
   "end_time": "2023-04-07T11:36:31.650581",
   "environment_variables": {},
   "exception": null,
   "input_path": "__notebook__.ipynb",
   "output_path": "__notebook__.ipynb",
   "parameters": {},
   "start_time": "2023-04-07T11:36:18.362300",
   "version": "2.4.0"
  }
 },
 "nbformat": 4,
 "nbformat_minor": 5
}
